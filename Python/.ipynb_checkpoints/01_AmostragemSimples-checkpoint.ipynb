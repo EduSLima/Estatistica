{
 "cells": [
  {
   "cell_type": "markdown",
   "metadata": {},
   "source": [
    "#Estudo de estatistico de amostragem simples"
   ]
  },
  {
   "cell_type": "code",
   "execution_count": 9,
   "metadata": {},
   "outputs": [],
   "source": [
    "#importando as libs pandas para manipulacao de Dataframes e Numpy para o trabalho com amostras\n",
    "import pandas as pd\n",
    "import numpy  as np"
   ]
  },
  {
   "cell_type": "code",
   "execution_count": 10,
   "metadata": {},
   "outputs": [],
   "source": [
    "#carregando os dados do famos banco iris\n",
    "base = pd.read_csv('Dados/iris.csv')"
   ]
  },
  {
   "cell_type": "code",
   "execution_count": 11,
   "metadata": {},
   "outputs": [
    {
     "data": {
      "text/plain": [
       "(150, 5)"
      ]
     },
     "execution_count": 11,
     "metadata": {},
     "output_type": "execute_result"
    }
   ],
   "source": [
    "#o shape nos diz quantas linhas e colunas temos no dataframe\n",
    "base.shape\n",
    "\n"
   ]
  },
  {
   "cell_type": "code",
   "execution_count": 23,
   "metadata": {},
   "outputs": [],
   "source": [
    "np.random.seed(2345) #gerando sempre o mesmo resultado, ultil para repetir um experimento e obter os mesmos resultados\n",
    "\n",
    "#Gerando uma amostragem\n",
    "amostra = np.random.choice(a       = [0,1], #o que a amostra deverá trazer sob o ponto de vista de dados neste caso 0 e 1 \n",
    "                           size    = 150,   #tamanho da amostra 150 condizente com o numero de linhas que temos em nossa base\n",
    "                           replace = True,  #Quando verdadeiro permite que haja repetição dos valores a que neste caso é 0 e 1\n",
    "                           p       = [0.5,0.5] ) #probabilidade para 0 e 1 essa a somatoria de p deve ser 1 sempre note que atribui 50% para ambos\n"
   ]
  },
  {
   "cell_type": "code",
   "execution_count": 24,
   "metadata": {},
   "outputs": [
    {
     "data": {
      "text/plain": [
       "81"
      ]
     },
     "execution_count": 24,
     "metadata": {},
     "output_type": "execute_result"
    }
   ],
   "source": [
    "len(amostra[amostra==1])\n",
    "\n"
   ]
  },
  {
   "cell_type": "code",
   "execution_count": 25,
   "metadata": {},
   "outputs": [
    {
     "data": {
      "text/plain": [
       "69"
      ]
     },
     "execution_count": 25,
     "metadata": {},
     "output_type": "execute_result"
    }
   ],
   "source": [
    "len(amostra[amostra==0])"
   ]
  },
  {
   "cell_type": "code",
   "execution_count": null,
   "metadata": {},
   "outputs": [],
   "source": []
  }
 ],
 "metadata": {
  "kernelspec": {
   "display_name": "Python 3",
   "language": "python",
   "name": "python3"
  },
  "language_info": {
   "codemirror_mode": {
    "name": "ipython",
    "version": 3
   },
   "file_extension": ".py",
   "mimetype": "text/x-python",
   "name": "python",
   "nbconvert_exporter": "python",
   "pygments_lexer": "ipython3",
   "version": "3.6.2"
  }
 },
 "nbformat": 4,
 "nbformat_minor": 2
}
