{
 "cells": [
  {
   "cell_type": "code",
   "execution_count": 1,
   "metadata": {},
   "outputs": [
    {
     "name": "stdout",
     "output_type": "stream",
     "text": [
      "Sua probabilidade é  15.87 %\n"
     ]
    }
   ],
   "source": [
    "#import das libs\n",
    "from scipy.stats import norm\n",
    "from scipy import stats\n",
    "import matplotlib.pyplot as plt\n",
    "\n",
    "# Conjunto de objetos em uma cesta, a média é 8 e o desvio padrão é 2\n",
    "# Qual a probabilidade de tirar um objeto que peso é menor que 6 quilos?\n",
    "\n",
    "print(\"Sua probabilidade é  %s %%\" %  round(norm.cdf(6, 8, 2) * 100,2))\n"
   ]
  },
  {
   "cell_type": "code",
   "execution_count": 2,
   "metadata": {},
   "outputs": [
    {
     "name": "stdout",
     "output_type": "stream",
     "text": [
      "Sua probabilidade é  84.13 %\n"
     ]
    }
   ],
   "source": [
    "# Qual a probabilidade de tirar um objeto que o peso á maior que 6 quilos?\n",
    "print(\"Sua probabilidade é  %s %%\" %  round((1 - norm.cdf(6, 8, 2)) * 100,2))\n"
   ]
  },
  {
   "cell_type": "code",
   "execution_count": 3,
   "metadata": {},
   "outputs": [
    {
     "name": "stdout",
     "output_type": "stream",
     "text": [
      "Sua probabilidade é  31.73 %\n"
     ]
    }
   ],
   "source": [
    "#funcao sf   quando trabalhamos com a parte maior (direita)  da distribuicao normal \n",
    "#funcao cdf  quando trabalhamos com a parte Menor (Esquerda) da distribuicao normal \n",
    "\n",
    "\n",
    "# Qual a probabilidade de tirar um objeto que o peso é menor que 6 ou maior \n",
    "# que 10 quilos?\n",
    "\n",
    "print(\"Sua probabilidade é  %s %%\" %  round((norm.cdf(6,8,2) + norm.sf(10,8,2))* 100,2))"
   ]
  },
  {
   "cell_type": "code",
   "execution_count": 4,
   "metadata": {},
   "outputs": [
    {
     "name": "stdout",
     "output_type": "stream",
     "text": [
      "Sua probabilidade é  34.13 %\n"
     ]
    }
   ],
   "source": [
    "# Qual a probabilidade de tirar um objeto que o peso é menor que 10 e maior\n",
    "# que 8 quilos?\n",
    "print(\"Sua probabilidade é  %s %%\" %  round((norm.cdf(10, 8, 2) - norm.cdf(8, 8, 2))* 100,2))"
   ]
  },
  {
   "cell_type": "code",
   "execution_count": 9,
   "metadata": {},
   "outputs": [],
   "source": [
    "#gera dados aleatorios dentro de uma distribuicao normal com 500 amostras\n",
    "dados = norm.rvs(size = 500)"
   ]
  },
  {
   "cell_type": "code",
   "execution_count": 10,
   "metadata": {},
   "outputs": [
    {
     "data": {
      "image/png": "[encoded data removed]",
      "text/plain": [
       "<Figure size 432x288 with 1 Axes>"
      ]
     },
     "metadata": {},
     "output_type": "display_data"
    }
   ],
   "source": [
    "#grafico da distribuição\n",
    "stats.probplot(dados, plot = plt)\n",
    "plt.show()"
   ]
  },
  {
   "cell_type": "code",
   "execution_count": 11,
   "metadata": {},
   "outputs": [
    {
     "data": {
      "image/png": "[encoded data removed]",
      "text/plain": [
       "<Figure size 432x288 with 1 Axes>"
      ]
     },
     "metadata": {},
     "output_type": "display_data"
    }
   ],
   "source": [
    "#histograma de dados\n",
    "plt.hist(dados)\n",
    "plt.show()"
   ]
  },
  {
   "cell_type": "code",
   "execution_count": 28,
   "metadata": {},
   "outputs": [
    {
     "data": {
      "text/plain": [
       "(0.9924505949020386, 0.852830708026886)"
      ]
     },
     "execution_count": 28,
     "metadata": {},
     "output_type": "execute_result"
    }
   ],
   "source": [
    "#teste de Shapiro\n",
    "# objetivo deste teste é fornecer uma estatística de teste para avaliar se uma amostra tem distribuição Normal\n",
    "stats.shapiro(dados)"
   ]
  },
  {
   "cell_type": "code",
   "execution_count": null,
   "metadata": {},
   "outputs": [],
   "source": []
  }
 ],
 "metadata": {
  "kernelspec": {
   "display_name": "Python 3",
   "language": "python",
   "name": "python3"
  },
  "language_info": {
   "codemirror_mode": {
    "name": "ipython",
    "version": 3
   },
   "file_extension": ".py",
   "mimetype": "text/x-python",
   "name": "python",
   "nbconvert_exporter": "python",
   "pygments_lexer": "ipython3",
   "version": "3.6.6"
  }
 },
 "nbformat": 4,
 "nbformat_minor": 2
}
