{
 "cells": [
  {
   "cell_type": "code",
   "execution_count": 2,
   "metadata": {},
   "outputs": [],
   "source": [
    "from scipy.stats import binom"
   ]
  },
  {
   "cell_type": "code",
   "execution_count": 3,
   "metadata": {},
   "outputs": [
    {
     "data": {
      "text/plain": [
       "0.3125"
      ]
     },
     "execution_count": 3,
     "metadata": {},
     "output_type": "execute_result"
    }
   ],
   "source": [
    "#qual a probabilidade de uma moeda jogada 5 vezes em 3 delas dar cara\n",
    "probabilidade = binom.pmf(3,5,0.5)\n",
    "probabilidade"
   ]
  },
  {
   "cell_type": "code",
   "execution_count": 22,
   "metadata": {},
   "outputs": [
    {
     "name": "stdout",
     "output_type": "stream",
     "text": [
      "Não Pegar nenhum sinal aberto 31.64 %\n",
      "Pegar 1 sinal  aberto 42.19 %\n",
      "Pegar 2 sinais aberto 21.09 %\n",
      "Pegar 3 sinais aberto 4.69 %\n",
      "Pegar 4 sinais aberto 0.39 %\n"
     ]
    }
   ],
   "source": [
    "\n",
    "print(\"Não Pegar nenhum sinal aberto %s %%\" %  round(binom.pmf(0,4,0.25) * 100,2))\n",
    "print(\"Pegar 1 sinal  aberto %s %%\" %  round(binom.pmf(1,4,0.25) * 100,2))\n",
    "print(\"Pegar 2 sinais aberto %s %%\" %  round(binom.pmf(2,4,0.25) * 100,2))\n",
    "print(\"Pegar 3 sinais aberto %s %%\" %  round(binom.pmf(3,4,0.25) * 100,2))\n",
    "print(\"Pegar 4 sinais aberto %s %%\" %  round(binom.pmf(4,4,0.25) * 100,2))\n"
   ]
  },
  {
   "cell_type": "code",
   "execution_count": 3,
   "metadata": {},
   "outputs": [
    {
     "data": {
      "text/plain": [
       "1.0"
      ]
     },
     "execution_count": 3,
     "metadata": {},
     "output_type": "execute_result"
    }
   ],
   "source": [
    "#probabilidade cumulativa do exemplo anterior retornando 100 %\n",
    "binom.cdf(4,4,0.25)"
   ]
  },
  {
   "cell_type": "code",
   "execution_count": 5,
   "metadata": {},
   "outputs": [
    {
     "name": "stdout",
     "output_type": "stream",
     "text": [
      "Sua probabilidade de acertar 7 de 12 é  1.15 %\n"
     ]
    }
   ],
   "source": [
    "#em uma prova de 12 questões qual a probabilidade de acertar 7 questoes considerando 4 alternativas sem saber nada aquele famoso chute\n",
    "\n",
    "print(\"Sua probabilidade de acertar 7 de 12 é  %s %%\" %  round(binom.pmf(7,12,0.25) * 100,2))\n"
   ]
  },
  {
   "cell_type": "code",
   "execution_count": null,
   "metadata": {},
   "outputs": [],
   "source": []
  }
 ],
 "metadata": {
  "kernelspec": {
   "display_name": "Python 3",
   "language": "python",
   "name": "python3"
  },
  "language_info": {
   "codemirror_mode": {
    "name": "ipython",
    "version": 3
   },
   "file_extension": ".py",
   "mimetype": "text/x-python",
   "name": "python",
   "nbconvert_exporter": "python",
   "pygments_lexer": "ipython3",
   "version": "3.6.2"
  }
 },
 "nbformat": 4,
 "nbformat_minor": 2
}
