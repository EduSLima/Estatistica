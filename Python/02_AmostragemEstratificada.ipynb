{
 "cells": [
  {
   "cell_type": "code",
   "execution_count": 1,
   "metadata": {},
   "outputs": [],
   "source": [
    "import pandas as pd\n",
    "from sklearn.model_selection import train_test_split"
   ]
  },
  {
   "cell_type": "code",
   "execution_count": 5,
   "metadata": {},
   "outputs": [],
   "source": [
    "#carregando os dados do famos banco iris\n",
    "iris = pd.read_csv('Dados/iris.csv')"
   ]
  },
  {
   "cell_type": "code",
   "execution_count": 10,
   "metadata": {},
   "outputs": [
    {
     "data": {
      "text/plain": [
       "Iris-setosa        50\n",
       "Iris-versicolor    50\n",
       "Iris-virginica     50\n",
       "Name: class, dtype: int64"
      ]
     },
     "execution_count": 10,
     "metadata": {},
     "output_type": "execute_result"
    }
   ],
   "source": [
    "#obtendo a amostra de acordo com a qtde de registros\n",
    "\n",
    "#contando a qtde de colunas de teste\n",
    "iris['class'].value_counts()\n"
   ]
  },
  {
   "cell_type": "code",
   "execution_count": 30,
   "metadata": {},
   "outputs": [],
   "source": [
    "#gerando aqui uma amostragem com 50 % da base levando em consideracao 50% de cada classe\n",
    "\n",
    "x, _, y, _ = train_test_split(iris.iloc[:,0:4], iris.iloc[:, 4], test_size = 0.5, stratify = iris.iloc[:,4])"
   ]
  },
  {
   "cell_type": "code",
   "execution_count": 35,
   "metadata": {},
   "outputs": [
    {
     "data": {
      "text/plain": [
       "Iris-setosa        25\n",
       "Iris-virginica     25\n",
       "Iris-versicolor    25\n",
       "Name: class, dtype: int64"
      ]
     },
     "execution_count": 35,
     "metadata": {},
     "output_type": "execute_result"
    }
   ],
   "source": [
    "y.value_counts()"
   ]
  },
  {
   "cell_type": "code",
   "execution_count": 36,
   "metadata": {},
   "outputs": [],
   "source": [
    "#outro exemplo de amostragem estratificada\n",
    "\n",
    "infert = pd.read_csv(\"Dados/infert.csv\")"
   ]
  },
  {
   "cell_type": "code",
   "execution_count": 37,
   "metadata": {},
   "outputs": [
    {
     "data": {
      "text/plain": [
       "6-11yrs    120\n",
       "12+ yrs    116\n",
       "0-5yrs      12\n",
       "Name: education, dtype: int64"
      ]
     },
     "execution_count": 37,
     "metadata": {},
     "output_type": "execute_result"
    }
   ],
   "source": [
    "infert['education'].value_counts()"
   ]
  },
  {
   "cell_type": "markdown",
   "metadata": {},
   "source": [
    "fazendo a divisao justa dos dados buscar 100 registros divididos pelas 3 categorias\n",
    " as variveis indicam a separação do modelo de treino\n",
    " os _ indicam a posição de variaveis de teste quando usado_ indica que nada será carregado no lugar\n",
    " test_size = 0.6 indica a porção do todo que sera reservado para teste como estamos usando apenas as variaveis de treino\n",
    "\n",
    "#sigo com este racional:\n",
    "       Total de linhas da populacao: 248\n",
    "       Total de linhas que desejo compor minha amostra: 100\n",
    "       Total de Linhas restantes: 148\n",
    "       \n",
    "       Logo 148 linhas que restaram (para treino) / 248 (total da populacao) temos 0,6\n",
    "\n"
   ]
  },
  {
   "cell_type": "code",
   "execution_count": 38,
   "metadata": {},
   "outputs": [],
   "source": [
    "x1, _, y1, _ =  train_test_split(infert.iloc[:,2:9], infert.iloc[:, 1], test_size = 0.6, stratify = infert.iloc[:,1])"
   ]
  },
  {
   "cell_type": "code",
   "execution_count": 39,
   "metadata": {},
   "outputs": [
    {
     "data": {
      "text/plain": [
       "6-11yrs    48\n",
       "12+ yrs    46\n",
       "0-5yrs      5\n",
       "Name: education, dtype: int64"
      ]
     },
     "execution_count": 39,
     "metadata": {},
     "output_type": "execute_result"
    }
   ],
   "source": [
    "y1.value_counts()"
   ]
  },
  {
   "cell_type": "code",
   "execution_count": null,
   "metadata": {},
   "outputs": [],
   "source": []
  }
 ],
 "metadata": {
  "kernelspec": {
   "display_name": "Python 3",
   "language": "python",
   "name": "python3"
  },
  "language_info": {
   "codemirror_mode": {
    "name": "ipython",
    "version": 3
   },
   "file_extension": ".py",
   "mimetype": "text/x-python",
   "name": "python",
   "nbconvert_exporter": "python",
   "pygments_lexer": "ipython3",
   "version": "3.6.2"
  }
 },
 "nbformat": 4,
 "nbformat_minor": 2
}
